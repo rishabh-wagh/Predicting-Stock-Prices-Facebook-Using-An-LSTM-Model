{
 "cells": [
  {
   "cell_type": "code",
   "execution_count": 1,
   "metadata": {},
   "outputs": [],
   "source": [
    "# Importing Libraries\n",
    "\n",
    "import numpy as np\n",
    "import pandas as pd\n",
    "import matplotlib.pyplot as plt \n"
   ]
  },
  {
   "cell_type": "code",
   "execution_count": 2,
   "metadata": {},
   "outputs": [],
   "source": [
    "# importing training data set\n",
    "train = pd.read_csv(\"FB_training_data.csv\")\n"
   ]
  },
  {
   "cell_type": "code",
   "execution_count": 3,
   "metadata": {},
   "outputs": [
    {
     "data": {
      "text/html": [
       "<div>\n",
       "<style scoped>\n",
       "    .dataframe tbody tr th:only-of-type {\n",
       "        vertical-align: middle;\n",
       "    }\n",
       "\n",
       "    .dataframe tbody tr th {\n",
       "        vertical-align: top;\n",
       "    }\n",
       "\n",
       "    .dataframe thead th {\n",
       "        text-align: right;\n",
       "    }\n",
       "</style>\n",
       "<table border=\"1\" class=\"dataframe\">\n",
       "  <thead>\n",
       "    <tr style=\"text-align: right;\">\n",
       "      <th></th>\n",
       "      <th>Date</th>\n",
       "      <th>Open</th>\n",
       "      <th>High</th>\n",
       "      <th>Low</th>\n",
       "      <th>Close</th>\n",
       "      <th>Adj Close</th>\n",
       "      <th>Volume</th>\n",
       "    </tr>\n",
       "  </thead>\n",
       "  <tbody>\n",
       "    <tr>\n",
       "      <td>0</td>\n",
       "      <td>2015-01-02</td>\n",
       "      <td>78.580002</td>\n",
       "      <td>78.930000</td>\n",
       "      <td>77.699997</td>\n",
       "      <td>78.449997</td>\n",
       "      <td>78.449997</td>\n",
       "      <td>18177500</td>\n",
       "    </tr>\n",
       "    <tr>\n",
       "      <td>1</td>\n",
       "      <td>2015-01-05</td>\n",
       "      <td>77.980003</td>\n",
       "      <td>79.250000</td>\n",
       "      <td>76.860001</td>\n",
       "      <td>77.190002</td>\n",
       "      <td>77.190002</td>\n",
       "      <td>26452200</td>\n",
       "    </tr>\n",
       "    <tr>\n",
       "      <td>2</td>\n",
       "      <td>2015-01-06</td>\n",
       "      <td>77.230003</td>\n",
       "      <td>77.589996</td>\n",
       "      <td>75.360001</td>\n",
       "      <td>76.150002</td>\n",
       "      <td>76.150002</td>\n",
       "      <td>27399300</td>\n",
       "    </tr>\n",
       "    <tr>\n",
       "      <td>3</td>\n",
       "      <td>2015-01-07</td>\n",
       "      <td>76.760002</td>\n",
       "      <td>77.360001</td>\n",
       "      <td>75.820000</td>\n",
       "      <td>76.150002</td>\n",
       "      <td>76.150002</td>\n",
       "      <td>22045300</td>\n",
       "    </tr>\n",
       "    <tr>\n",
       "      <td>4</td>\n",
       "      <td>2015-01-08</td>\n",
       "      <td>76.739998</td>\n",
       "      <td>78.230003</td>\n",
       "      <td>76.080002</td>\n",
       "      <td>78.180000</td>\n",
       "      <td>78.180000</td>\n",
       "      <td>23961000</td>\n",
       "    </tr>\n",
       "  </tbody>\n",
       "</table>\n",
       "</div>"
      ],
      "text/plain": [
       "         Date       Open       High        Low      Close  Adj Close    Volume\n",
       "0  2015-01-02  78.580002  78.930000  77.699997  78.449997  78.449997  18177500\n",
       "1  2015-01-05  77.980003  79.250000  76.860001  77.190002  77.190002  26452200\n",
       "2  2015-01-06  77.230003  77.589996  75.360001  76.150002  76.150002  27399300\n",
       "3  2015-01-07  76.760002  77.360001  75.820000  76.150002  76.150002  22045300\n",
       "4  2015-01-08  76.739998  78.230003  76.080002  78.180000  78.180000  23961000"
      ]
     },
     "execution_count": 3,
     "metadata": {},
     "output_type": "execute_result"
    }
   ],
   "source": [
    "train.head()"
   ]
  },
  {
   "cell_type": "code",
   "execution_count": 4,
   "metadata": {},
   "outputs": [],
   "source": [
    "train = train.iloc[:,1].values"
   ]
  },
  {
   "cell_type": "code",
   "execution_count": 5,
   "metadata": {},
   "outputs": [
    {
     "data": {
      "text/plain": [
       "numpy.ndarray"
      ]
     },
     "execution_count": 5,
     "metadata": {},
     "output_type": "execute_result"
    }
   ],
   "source": [
    "type(train)"
   ]
  },
  {
   "cell_type": "code",
   "execution_count": 6,
   "metadata": {},
   "outputs": [],
   "source": [
    "# Feature scaling\n",
    "from sklearn.preprocessing import MinMaxScaler"
   ]
  },
  {
   "cell_type": "code",
   "execution_count": 7,
   "metadata": {},
   "outputs": [],
   "source": [
    "# Defining object \n",
    "scalar = MinMaxScaler()"
   ]
  },
  {
   "cell_type": "code",
   "execution_count": 8,
   "metadata": {},
   "outputs": [],
   "source": [
    "# scaling on the training data\n",
    "train = scalar.fit_transform(train.reshape(-1,1))"
   ]
  },
  {
   "cell_type": "code",
   "execution_count": 9,
   "metadata": {},
   "outputs": [
    {
     "data": {
      "text/plain": [
       "array([[0.03204405],\n",
       "       [0.02780916],\n",
       "       [0.02251554],\n",
       "       ...,\n",
       "       [0.95023996],\n",
       "       [0.94452287],\n",
       "       [0.91727837]])"
      ]
     },
     "execution_count": 9,
     "metadata": {},
     "output_type": "execute_result"
    }
   ],
   "source": [
    "train"
   ]
  },
  {
   "cell_type": "code",
   "execution_count": 10,
   "metadata": {},
   "outputs": [],
   "source": [
    "# Data structure for 40 days of data for training and prediction\n",
    "\n",
    "x_train =[]\n",
    "y_train =[]"
   ]
  },
  {
   "cell_type": "code",
   "execution_count": 11,
   "metadata": {},
   "outputs": [],
   "source": [
    "\n",
    "for i in range(40,len(train)):\n",
    "    x_train.append(train[i-40:i,0])\n",
    "    y_train.append(train[i,0])"
   ]
  },
  {
   "cell_type": "code",
   "execution_count": 12,
   "metadata": {},
   "outputs": [],
   "source": [
    "# converting our datasets to numpy arrays\n",
    "x_train = np.array(x_train)\n",
    "y_train = np.array(y_train)"
   ]
  },
  {
   "cell_type": "code",
   "execution_count": 13,
   "metadata": {},
   "outputs": [
    {
     "name": "stdout",
     "output_type": "stream",
     "text": [
      "(1218, 40)\n"
     ]
    },
    {
     "data": {
      "text/plain": [
       "(1218,)"
      ]
     },
     "execution_count": 13,
     "metadata": {},
     "output_type": "execute_result"
    }
   ],
   "source": [
    "# shape of our dataset\n",
    "print(x_train.shape)\n",
    "y_train.shape"
   ]
  },
  {
   "cell_type": "code",
   "execution_count": 14,
   "metadata": {},
   "outputs": [],
   "source": [
    "#again reshaping the data for RNN\n",
    "x_train = np.reshape(x_train,(x_train.shape[0],x_train.shape[1],1))"
   ]
  },
  {
   "cell_type": "code",
   "execution_count": 15,
   "metadata": {},
   "outputs": [],
   "source": [
    "# importing tesnflow libraries\n",
    "\n",
    "from tensorflow.keras.models import Sequential\n",
    "from tensorflow.keras.layers import Dense\n",
    "from tensorflow.keras.layers import LSTM\n",
    "from tensorflow.keras.layers import Dropout"
   ]
  },
  {
   "cell_type": "code",
   "execution_count": 16,
   "metadata": {},
   "outputs": [],
   "source": [
    "# intializing the sequential object \n",
    "\n",
    "rnn = Sequential()"
   ]
  },
  {
   "cell_type": "code",
   "execution_count": 17,
   "metadata": {},
   "outputs": [],
   "source": [
    "rnn.add(LSTM(units=45,return_sequences = True, input_shape = (x_train.shape[1],1)))"
   ]
  },
  {
   "cell_type": "code",
   "execution_count": 18,
   "metadata": {},
   "outputs": [],
   "source": [
    "# adding dropout Regularization rate of 20%\n",
    "rnn.add(Dropout(0.2))\n"
   ]
  },
  {
   "cell_type": "code",
   "execution_count": 19,
   "metadata": {},
   "outputs": [],
   "source": [
    "# adding 3 more LSTM layers \n",
    "\n",
    "for i in [True,True,False]:\n",
    "    rnn.add(LSTM(units = 45, return_sequences = i))\n",
    "    rnn.add(Dropout(0.2))\n",
    "    "
   ]
  },
  {
   "cell_type": "code",
   "execution_count": 20,
   "metadata": {},
   "outputs": [],
   "source": [
    "# The output layer\n",
    "\n",
    "rnn.add(Dense(units = 1))\n"
   ]
  },
  {
   "cell_type": "code",
   "execution_count": 22,
   "metadata": {},
   "outputs": [],
   "source": [
    "# compiler \n",
    "\n",
    "rnn.compile(optimizer = 'adam', loss = 'mean_squared_error')"
   ]
  },
  {
   "cell_type": "code",
   "execution_count": 23,
   "metadata": {},
   "outputs": [
    {
     "name": "stdout",
     "output_type": "stream",
     "text": [
      "Train on 1218 samples\n",
      "Epoch 1/100\n",
      "1218/1218 [==============================] - 17s 14ms/sample - loss: 0.0556\n",
      "Epoch 2/100\n",
      "1218/1218 [==============================] - 4s 4ms/sample - loss: 0.0063\n",
      "Epoch 3/100\n",
      "1218/1218 [==============================] - 4s 4ms/sample - loss: 0.0064\n",
      "Epoch 4/100\n",
      "1218/1218 [==============================] - 5s 4ms/sample - loss: 0.0059\n",
      "Epoch 5/100\n",
      "1218/1218 [==============================] - 4s 3ms/sample - loss: 0.0063\n",
      "Epoch 6/100\n",
      "1218/1218 [==============================] - 4s 4ms/sample - loss: 0.0057\n",
      "Epoch 7/100\n",
      "1218/1218 [==============================] - 4s 4ms/sample - loss: 0.0062\n",
      "Epoch 8/100\n",
      "1218/1218 [==============================] - 4s 4ms/sample - loss: 0.0053\n",
      "Epoch 9/100\n",
      "1218/1218 [==============================] - 4s 4ms/sample - loss: 0.0056\n",
      "Epoch 10/100\n",
      "1218/1218 [==============================] - 4s 4ms/sample - loss: 0.0060\n",
      "Epoch 11/100\n",
      "1218/1218 [==============================] - 4s 4ms/sample - loss: 0.0050\n",
      "Epoch 12/100\n",
      "1218/1218 [==============================] - 4s 3ms/sample - loss: 0.0053\n",
      "Epoch 13/100\n",
      "1218/1218 [==============================] - 4s 3ms/sample - loss: 0.0057\n",
      "Epoch 14/100\n",
      "1218/1218 [==============================] - 4s 3ms/sample - loss: 0.0045\n",
      "Epoch 15/100\n",
      "1218/1218 [==============================] - 5s 4ms/sample - loss: 0.0048\n",
      "Epoch 16/100\n",
      "1218/1218 [==============================] - 5s 4ms/sample - loss: 0.0041\n",
      "Epoch 17/100\n",
      "1218/1218 [==============================] - 4s 4ms/sample - loss: 0.0043\n",
      "Epoch 18/100\n",
      "1218/1218 [==============================] - 4s 3ms/sample - loss: 0.0042\n",
      "Epoch 19/100\n",
      "1218/1218 [==============================] - 4s 4ms/sample - loss: 0.0044\n",
      "Epoch 20/100\n",
      "1218/1218 [==============================] - 4s 3ms/sample - loss: 0.0047\n",
      "Epoch 21/100\n",
      "1218/1218 [==============================] - 4s 4ms/sample - loss: 0.0044\n",
      "Epoch 22/100\n",
      "1218/1218 [==============================] - 4s 3ms/sample - loss: 0.0039\n",
      "Epoch 23/100\n",
      "1218/1218 [==============================] - 4s 4ms/sample - loss: 0.0042\n",
      "Epoch 24/100\n",
      "1218/1218 [==============================] - 4s 3ms/sample - loss: 0.0044\n",
      "Epoch 25/100\n",
      "1218/1218 [==============================] - 4s 3ms/sample - loss: 0.0042\n",
      "Epoch 26/100\n",
      "1218/1218 [==============================] - 4s 3ms/sample - loss: 0.0039\n",
      "Epoch 27/100\n",
      "1218/1218 [==============================] - 4s 3ms/sample - loss: 0.0036\n",
      "Epoch 28/100\n",
      "1218/1218 [==============================] - 4s 3ms/sample - loss: 0.0040\n",
      "Epoch 29/100\n",
      "1218/1218 [==============================] - 4s 3ms/sample - loss: 0.0033\n",
      "Epoch 30/100\n",
      "1218/1218 [==============================] - 4s 3ms/sample - loss: 0.0033\n",
      "Epoch 31/100\n",
      "1218/1218 [==============================] - 4s 3ms/sample - loss: 0.0040\n",
      "Epoch 32/100\n",
      "1218/1218 [==============================] - 4s 3ms/sample - loss: 0.0038\n",
      "Epoch 33/100\n",
      "1218/1218 [==============================] - 4s 3ms/sample - loss: 0.0035\n",
      "Epoch 34/100\n",
      "1218/1218 [==============================] - 4s 3ms/sample - loss: 0.0034\n",
      "Epoch 35/100\n",
      "1218/1218 [==============================] - 4s 4ms/sample - loss: 0.0033\n",
      "Epoch 36/100\n",
      "1218/1218 [==============================] - 4s 4ms/sample - loss: 0.0035\n",
      "Epoch 37/100\n",
      "1218/1218 [==============================] - 4s 4ms/sample - loss: 0.0031\n",
      "Epoch 38/100\n",
      "1218/1218 [==============================] - 4s 4ms/sample - loss: 0.0036\n",
      "Epoch 39/100\n",
      "1218/1218 [==============================] - 4s 4ms/sample - loss: 0.0029\n",
      "Epoch 40/100\n",
      "1218/1218 [==============================] - 4s 4ms/sample - loss: 0.0033\n",
      "Epoch 41/100\n",
      "1218/1218 [==============================] - 4s 4ms/sample - loss: 0.0032\n",
      "Epoch 42/100\n",
      "1218/1218 [==============================] - 5s 4ms/sample - loss: 0.0031\n",
      "Epoch 43/100\n",
      "1218/1218 [==============================] - 4s 3ms/sample - loss: 0.0030\n",
      "Epoch 44/100\n",
      "1218/1218 [==============================] - 4s 3ms/sample - loss: 0.0029\n",
      "Epoch 45/100\n",
      "1218/1218 [==============================] - 4s 4ms/sample - loss: 0.0031\n",
      "Epoch 46/100\n",
      "1218/1218 [==============================] - 4s 3ms/sample - loss: 0.0029\n",
      "Epoch 47/100\n",
      "1218/1218 [==============================] - 5s 4ms/sample - loss: 0.0029\n",
      "Epoch 48/100\n",
      "1218/1218 [==============================] - 4s 3ms/sample - loss: 0.0032\n",
      "Epoch 49/100\n",
      "1218/1218 [==============================] - 4s 3ms/sample - loss: 0.0028\n",
      "Epoch 50/100\n",
      "1218/1218 [==============================] - 4s 4ms/sample - loss: 0.0028\n",
      "Epoch 51/100\n",
      "1218/1218 [==============================] - 4s 3ms/sample - loss: 0.0027\n",
      "Epoch 52/100\n",
      "1218/1218 [==============================] - 4s 3ms/sample - loss: 0.0022\n",
      "Epoch 53/100\n",
      "1218/1218 [==============================] - 4s 4ms/sample - loss: 0.0033\n",
      "Epoch 54/100\n",
      "1218/1218 [==============================] - 4s 4ms/sample - loss: 0.0026\n",
      "Epoch 55/100\n",
      "1218/1218 [==============================] - 4s 3ms/sample - loss: 0.0027\n",
      "Epoch 56/100\n",
      "1218/1218 [==============================] - 4s 3ms/sample - loss: 0.0026\n",
      "Epoch 57/100\n",
      "1218/1218 [==============================] - 4s 3ms/sample - loss: 0.0024\n",
      "Epoch 58/100\n",
      "1218/1218 [==============================] - 4s 3ms/sample - loss: 0.0023\n",
      "Epoch 59/100\n",
      "1218/1218 [==============================] - 4s 3ms/sample - loss: 0.0024\n",
      "Epoch 60/100\n",
      "1218/1218 [==============================] - 4s 4ms/sample - loss: 0.0025\n",
      "Epoch 61/100\n",
      "1218/1218 [==============================] - 4s 4ms/sample - loss: 0.0021\n",
      "Epoch 62/100\n",
      "1218/1218 [==============================] - 4s 4ms/sample - loss: 0.0022\n",
      "Epoch 63/100\n",
      "1218/1218 [==============================] - 4s 4ms/sample - loss: 0.0023\n",
      "Epoch 64/100\n",
      "1218/1218 [==============================] - 4s 4ms/sample - loss: 0.0023\n",
      "Epoch 65/100\n",
      "1218/1218 [==============================] - 4s 4ms/sample - loss: 0.0023\n",
      "Epoch 66/100\n",
      "1218/1218 [==============================] - 5s 4ms/sample - loss: 0.0022\n",
      "Epoch 67/100\n",
      "1218/1218 [==============================] - 4s 4ms/sample - loss: 0.0020\n",
      "Epoch 68/100\n",
      "1218/1218 [==============================] - 4s 4ms/sample - loss: 0.0020\n",
      "Epoch 69/100\n",
      "1218/1218 [==============================] - 4s 4ms/sample - loss: 0.0024\n",
      "Epoch 70/100\n",
      "1218/1218 [==============================] - 4s 4ms/sample - loss: 0.0020\n",
      "Epoch 71/100\n",
      "1218/1218 [==============================] - 4s 4ms/sample - loss: 0.0020\n",
      "Epoch 72/100\n",
      "1218/1218 [==============================] - 4s 4ms/sample - loss: 0.0019\n",
      "Epoch 73/100\n",
      "1218/1218 [==============================] - 4s 3ms/sample - loss: 0.0020\n",
      "Epoch 74/100\n",
      "1218/1218 [==============================] - 4s 3ms/sample - loss: 0.0018\n",
      "Epoch 75/100\n",
      "1218/1218 [==============================] - 5s 4ms/sample - loss: 0.0020\n",
      "Epoch 76/100\n",
      "1218/1218 [==============================] - 4s 3ms/sample - loss: 0.0020\n",
      "Epoch 77/100\n",
      "1218/1218 [==============================] - 4s 3ms/sample - loss: 0.0020\n",
      "Epoch 78/100\n",
      "1218/1218 [==============================] - 4s 4ms/sample - loss: 0.0020\n",
      "Epoch 79/100\n",
      "1218/1218 [==============================] - 4s 4ms/sample - loss: 0.0021\n",
      "Epoch 80/100\n",
      "1218/1218 [==============================] - 4s 4ms/sample - loss: 0.0021\n",
      "Epoch 81/100\n",
      "1218/1218 [==============================] - 4s 4ms/sample - loss: 0.0018\n",
      "Epoch 82/100\n",
      "1218/1218 [==============================] - 4s 4ms/sample - loss: 0.0018\n",
      "Epoch 83/100\n",
      "1218/1218 [==============================] - 4s 4ms/sample - loss: 0.0019\n",
      "Epoch 84/100\n",
      "1218/1218 [==============================] - 5s 4ms/sample - loss: 0.0020\n",
      "Epoch 85/100\n",
      "1218/1218 [==============================] - 4s 4ms/sample - loss: 0.0018\n",
      "Epoch 86/100\n",
      "1218/1218 [==============================] - 4s 4ms/sample - loss: 0.0019\n",
      "Epoch 87/100\n",
      "1218/1218 [==============================] - 4s 4ms/sample - loss: 0.0019\n",
      "Epoch 88/100\n",
      "1218/1218 [==============================] - 4s 4ms/sample - loss: 0.0018\n",
      "Epoch 89/100\n",
      "1218/1218 [==============================] - 5s 4ms/sample - loss: 0.0017\n",
      "Epoch 90/100\n",
      "1218/1218 [==============================] - 4s 4ms/sample - loss: 0.0018\n",
      "Epoch 91/100\n",
      "1218/1218 [==============================] - 5s 4ms/sample - loss: 0.0022\n",
      "Epoch 92/100\n",
      "1218/1218 [==============================] - 4s 4ms/sample - loss: 0.0020\n",
      "Epoch 93/100\n",
      "1218/1218 [==============================] - 4s 4ms/sample - loss: 0.0018\n",
      "Epoch 94/100\n",
      "1218/1218 [==============================] - 4s 3ms/sample - loss: 0.0019\n"
     ]
    },
    {
     "name": "stdout",
     "output_type": "stream",
     "text": [
      "Epoch 95/100\n",
      "1218/1218 [==============================] - 4s 3ms/sample - loss: 0.0018\n",
      "Epoch 96/100\n",
      "1218/1218 [==============================] - 5s 4ms/sample - loss: 0.0018\n",
      "Epoch 97/100\n",
      "1218/1218 [==============================] - 4s 4ms/sample - loss: 0.0018\n",
      "Epoch 98/100\n",
      "1218/1218 [==============================] - 4s 3ms/sample - loss: 0.0015\n",
      "Epoch 99/100\n",
      "1218/1218 [==============================] - 4s 4ms/sample - loss: 0.0017\n",
      "Epoch 100/100\n",
      "1218/1218 [==============================] - 4s 4ms/sample - loss: 0.0015\n"
     ]
    },
    {
     "data": {
      "text/plain": [
       "<tensorflow.python.keras.callbacks.History at 0x146861daa48>"
      ]
     },
     "execution_count": 23,
     "metadata": {},
     "output_type": "execute_result"
    }
   ],
   "source": [
    "# fitting the RNN\n",
    "\n",
    "rnn.fit(x_train,y_train,epochs=100,batch_size=32)"
   ]
  },
  {
   "cell_type": "markdown",
   "metadata": {},
   "source": [
    "## Prediction "
   ]
  },
  {
   "cell_type": "code",
   "execution_count": 25,
   "metadata": {},
   "outputs": [],
   "source": [
    "# Importing Test dataset\n",
    "\n",
    "test = pd.read_csv(\"FB_test_data.csv\")\n",
    "test =test.iloc[:,1].values"
   ]
  },
  {
   "cell_type": "code",
   "execution_count": 26,
   "metadata": {},
   "outputs": [
    {
     "data": {
      "text/plain": [
       "[<matplotlib.lines.Line2D at 0x1468fdd2b48>]"
      ]
     },
     "execution_count": 26,
     "metadata": {},
     "output_type": "execute_result"
    },
    {
     "data": {
      "image/png": "[encoded data removed]",
      "text/plain": [
       "<Figure size 432x288 with 1 Axes>"
      ]
     },
     "metadata": {
      "needs_background": "light"
     },
     "output_type": "display_data"
    }
   ],
   "source": [
    "# plotting the test dataset\n",
    "plt.plot(test)"
   ]
  },
  {
   "cell_type": "code",
   "execution_count": 30,
   "metadata": {},
   "outputs": [],
   "source": [
    "# reimporitng the dataset to take previous 40 days data than Jan 2020\n",
    "\n",
    "unscaled_train = pd.read_csv(\"FB_training_data.csv\")\n",
    "\n",
    "unscaled_test = pd.read_csv(\"FB_test_data.csv\")"
   ]
  },
  {
   "cell_type": "code",
   "execution_count": 31,
   "metadata": {},
   "outputs": [],
   "source": [
    "# concatnating train and test data only for the column OPEN\n",
    "\n",
    "all_data = pd.concat((unscaled_train['Open'],unscaled_test['Open']),axis=0)\n",
    "\n"
   ]
  },
  {
   "cell_type": "code",
   "execution_count": 32,
   "metadata": {},
   "outputs": [
    {
     "data": {
      "text/plain": [
       "(1279,)"
      ]
     },
     "execution_count": 32,
     "metadata": {},
     "output_type": "execute_result"
    }
   ],
   "source": [
    "all_data.shape"
   ]
  },
  {
   "cell_type": "code",
   "execution_count": 33,
   "metadata": {},
   "outputs": [],
   "source": [
    "# getting data of 40 days prior to january 2020\n",
    "\n",
    "x_test_data = all_data[len(all_data)-len(test)-40:].values\n"
   ]
  },
  {
   "cell_type": "code",
   "execution_count": 34,
   "metadata": {},
   "outputs": [
    {
     "data": {
      "text/plain": [
       "(61,)"
      ]
     },
     "execution_count": 34,
     "metadata": {},
     "output_type": "execute_result"
    }
   ],
   "source": [
    "x_test_data.shape"
   ]
  },
  {
   "cell_type": "code",
   "execution_count": 35,
   "metadata": {},
   "outputs": [],
   "source": [
    "# resahping the test dataset\n",
    "x_test_data = np.reshape(x_test_data,(-1,1))"
   ]
  },
  {
   "cell_type": "code",
   "execution_count": 37,
   "metadata": {},
   "outputs": [],
   "source": [
    "# scaling the test dataset\n",
    "x_test_data = scalar.transform(x_test_data)"
   ]
  },
  {
   "cell_type": "code",
   "execution_count": 38,
   "metadata": {},
   "outputs": [],
   "source": [
    "final_x_test_data = []\n",
    "\n",
    "for i in range(40,len(x_test_data)):\n",
    "    final_x_test_data.append(x_test_data[i-40:i,0])\n",
    "final_x_test_data = np.array(final_x_test_data)"
   ]
  },
  {
   "cell_type": "code",
   "execution_count": 39,
   "metadata": {},
   "outputs": [],
   "source": [
    "final_x_test_data = np.reshape(final_x_test_data, (final_x_test_data.shape[0], \n",
    "\n",
    "                                               final_x_test_data.shape[1], \n",
    "\n",
    "                                               1))"
   ]
  },
  {
   "cell_type": "code",
   "execution_count": 42,
   "metadata": {},
   "outputs": [],
   "source": [
    "# prediction\n",
    "\n",
    "predictions = rnn.predict(final_x_test_data)"
   ]
  },
  {
   "cell_type": "code",
   "execution_count": 44,
   "metadata": {},
   "outputs": [
    {
     "data": {
      "text/plain": [
       "[<matplotlib.lines.Line2D at 0x14692924048>]"
      ]
     },
     "execution_count": 44,
     "metadata": {},
     "output_type": "execute_result"
    },
    {
     "data": {
      "image/png": "[encoded data removed]",
      "text/plain": [
       "<Figure size 432x288 with 1 Axes>"
      ]
     },
     "metadata": {
      "needs_background": "light"
     },
     "output_type": "display_data"
    }
   ],
   "source": [
    "plt.clf()\n",
    "plt.plot(predictions)"
   ]
  },
  {
   "cell_type": "code",
   "execution_count": 46,
   "metadata": {},
   "outputs": [
    {
     "data": {
      "text/plain": [
       "[<matplotlib.lines.Line2D at 0x14692bf7cc8>]"
      ]
     },
     "execution_count": 46,
     "metadata": {},
     "output_type": "execute_result"
    },
    {
     "data": {
      "image/png": "[encoded data removed]",
      "text/plain": [
       "<Figure size 432x288 with 1 Axes>"
      ]
     },
     "metadata": {
      "needs_background": "light"
     },
     "output_type": "display_data"
    }
   ],
   "source": [
    "# unscaling the data \n",
    "\n",
    "unscaled_predictions = scalar.inverse_transform(predictions)\n",
    "\n",
    "plt.clf() \n",
    "\n",
    "plt.plot(unscaled_predictions)"
   ]
  },
  {
   "cell_type": "code",
   "execution_count": 48,
   "metadata": {},
   "outputs": [
    {
     "data": {
      "text/plain": [
       "Text(0.5, 1.0, 'Facebook Stock Price Predictions')"
      ]
     },
     "execution_count": 48,
     "metadata": {},
     "output_type": "execute_result"
    },
    {
     "data": {
      "image/png": "[encoded data removed]",
      "text/plain": [
       "<Figure size 432x288 with 1 Axes>"
      ]
     },
     "metadata": {
      "needs_background": "light"
     },
     "output_type": "display_data"
    }
   ],
   "source": [
    "# comparision\n",
    "\n",
    "plt.plot(unscaled_predictions, color = '#135485', label = \"Predictions\")\n",
    "\n",
    "plt.plot(test, color = 'black', label = \"Real Data\")\n",
    "\n",
    "plt.title('Facebook Stock Price Predictions')"
   ]
  },
  {
   "cell_type": "code",
   "execution_count": null,
   "metadata": {},
   "outputs": [],
   "source": []
  }
 ],
 "metadata": {
  "kernelspec": {
   "display_name": "Python 3",
   "language": "python",
   "name": "python3"
  },
  "language_info": {
   "codemirror_mode": {
    "name": "ipython",
    "version": 3
   },
   "file_extension": ".py",
   "mimetype": "text/x-python",
   "name": "python",
   "nbconvert_exporter": "python",
   "pygments_lexer": "ipython3",
   "version": "3.7.4"
  }
 },
 "nbformat": 4,
 "nbformat_minor": 2
}
